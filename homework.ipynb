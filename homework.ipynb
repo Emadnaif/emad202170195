{
 "cells": [
  {
   "cell_type": "code",
   "execution_count": 7,
   "metadata": {},
   "outputs": [
    {
     "name": "stdout",
     "output_type": "stream",
     "text": [
      "Solution is None\n"
     ]
    }
   ],
   "source": [
    "def dfs_numbers(start, goal):\n",
    "    visited = []\n",
    "    stack = [[start]]\n",
    "\n",
    "    while stack:\n",
    "        path = stack.pop()\n",
    "        node = path[-1]\n",
    "\n",
    "        if node in visited:\n",
    "            continue\n",
    "\n",
    "        visited.append(node)\n",
    "\n",
    "        if node == goal:\n",
    "            return path\n",
    "        else:\n",
    "           \n",
    "            if node < goal:\n",
    "                adjacent_nodes = [node + 1]  \n",
    "                for node2 in adjacent_nodes:\n",
    "                    new_path = path.copy()\n",
    "                    new_path.append(node2)\n",
    "                    stack.append(new_path)\n",
    "\n",
    "# Run DFS for numbers from 1 to 9\n",
    "solution = dfs_numbers(1, 9)\n",
    "print(\"Solution is\", solution)\n"
   ]
  }
 ],
 "metadata": {
  "kernelspec": {
   "display_name": "Python 3",
   "language": "python",
   "name": "python3"
  },
  "language_info": {
   "codemirror_mode": {
    "name": "ipython",
    "version": 3
   },
   "file_extension": ".py",
   "mimetype": "text/x-python",
   "name": "python",
   "nbconvert_exporter": "python",
   "pygments_lexer": "ipython3",
   "version": "3.12.4"
  }
 },
 "nbformat": 4,
 "nbformat_minor": 2
}
